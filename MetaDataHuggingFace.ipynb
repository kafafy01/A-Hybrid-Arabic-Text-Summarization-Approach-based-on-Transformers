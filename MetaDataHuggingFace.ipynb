{
  "nbformat": 4,
  "nbformat_minor": 0,
  "metadata": {
    "colab": {
      "name": "MetaDataHuggingFace.ipynb",
      "provenance": [],
      "collapsed_sections": [
        "d2x8r7Z4EC30",
        "mcbx-ZTgEK6_",
        "OrYIpcU6DyqZ",
        "Qi11-CXvJjlt"
      ],
      "authorship_tag": "ABX9TyNKHg/AGgcgj8Nq3P7XzcK9",
      "include_colab_link": true
    },
    "kernelspec": {
      "name": "python3",
      "display_name": "Python 3"
    },
    "language_info": {
      "name": "python"
    }
  },
  "cells": [
    {
      "cell_type": "markdown",
      "metadata": {
        "id": "view-in-github",
        "colab_type": "text"
      },
      "source": [
        "<a href=\"https://colab.research.google.com/github/mohamedehab00/A-Hybrid-Arabic-Text-Summarization-Approach-based-on-Transformers/blob/main/MetaDataHuggingFace.ipynb\" target=\"_parent\"><img src=\"https://colab.research.google.com/assets/colab-badge.svg\" alt=\"Open In Colab\"/></a>"
      ]
    },
    {
      "cell_type": "markdown",
      "source": [
        "# Install Dependencies"
      ],
      "metadata": {
        "id": "d2x8r7Z4EC30"
      }
    },
    {
      "cell_type": "code",
      "source": [
        "!pip install transformers"
      ],
      "metadata": {
        "colab": {
          "base_uri": "https://localhost:8080/"
        },
        "id": "_N2K1JnaEIZC",
        "outputId": "dedee328-7be3-4fb9-d503-dff53f52ebe8"
      },
      "execution_count": null,
      "outputs": [
        {
          "output_type": "stream",
          "name": "stdout",
          "text": [
            "Requirement already satisfied: transformers in /usr/local/lib/python3.7/dist-packages (4.8.0)\n",
            "Requirement already satisfied: tqdm>=4.27 in /usr/local/lib/python3.7/dist-packages (from transformers) (4.64.0)\n",
            "Requirement already satisfied: numpy>=1.17 in /usr/local/lib/python3.7/dist-packages (from transformers) (1.21.6)\n",
            "Requirement already satisfied: pyyaml in /usr/local/lib/python3.7/dist-packages (from transformers) (3.13)\n",
            "Requirement already satisfied: regex!=2019.12.17 in /usr/local/lib/python3.7/dist-packages (from transformers) (2019.12.20)\n",
            "Requirement already satisfied: filelock in /usr/local/lib/python3.7/dist-packages (from transformers) (3.6.0)\n",
            "Requirement already satisfied: requests in /usr/local/lib/python3.7/dist-packages (from transformers) (2.23.0)\n",
            "Requirement already satisfied: sacremoses in /usr/local/lib/python3.7/dist-packages (from transformers) (0.0.49)\n",
            "Requirement already satisfied: huggingface-hub==0.0.12 in /usr/local/lib/python3.7/dist-packages (from transformers) (0.0.12)\n",
            "Requirement already satisfied: tokenizers<0.11,>=0.10.1 in /usr/local/lib/python3.7/dist-packages (from transformers) (0.10.3)\n",
            "Requirement already satisfied: importlib-metadata in /usr/local/lib/python3.7/dist-packages (from transformers) (4.11.3)\n",
            "Requirement already satisfied: packaging in /usr/local/lib/python3.7/dist-packages (from transformers) (21.3)\n",
            "Requirement already satisfied: typing-extensions in /usr/local/lib/python3.7/dist-packages (from huggingface-hub==0.0.12->transformers) (4.1.1)\n",
            "Requirement already satisfied: pyparsing!=3.0.5,>=2.0.2 in /usr/local/lib/python3.7/dist-packages (from packaging->transformers) (3.0.8)\n",
            "Requirement already satisfied: zipp>=0.5 in /usr/local/lib/python3.7/dist-packages (from importlib-metadata->transformers) (3.8.0)\n",
            "Requirement already satisfied: urllib3!=1.25.0,!=1.25.1,<1.26,>=1.21.1 in /usr/local/lib/python3.7/dist-packages (from requests->transformers) (1.24.3)\n",
            "Requirement already satisfied: idna<3,>=2.5 in /usr/local/lib/python3.7/dist-packages (from requests->transformers) (2.10)\n",
            "Requirement already satisfied: chardet<4,>=3.0.2 in /usr/local/lib/python3.7/dist-packages (from requests->transformers) (3.0.4)\n",
            "Requirement already satisfied: certifi>=2017.4.17 in /usr/local/lib/python3.7/dist-packages (from requests->transformers) (2021.10.8)\n",
            "Requirement already satisfied: click in /usr/local/lib/python3.7/dist-packages (from sacremoses->transformers) (7.1.2)\n",
            "Requirement already satisfied: six in /usr/local/lib/python3.7/dist-packages (from sacremoses->transformers) (1.15.0)\n",
            "Requirement already satisfied: joblib in /usr/local/lib/python3.7/dist-packages (from sacremoses->transformers) (1.1.0)\n"
          ]
        }
      ]
    },
    {
      "cell_type": "markdown",
      "source": [
        "#Essential Imports"
      ],
      "metadata": {
        "id": "mcbx-ZTgEK6_"
      }
    },
    {
      "cell_type": "code",
      "source": [
        "import numpy as np\n",
        "from transformers import AutoTokenizer, AutoModelForTokenClassification, pipeline\n",
        "import torch"
      ],
      "metadata": {
        "id": "J6kb8MdPEO3L"
      },
      "execution_count": null,
      "outputs": []
    },
    {
      "cell_type": "markdown",
      "source": [
        "# Model"
      ],
      "metadata": {
        "id": "OrYIpcU6DyqZ"
      }
    },
    {
      "cell_type": "code",
      "execution_count": null,
      "metadata": {
        "id": "pTQXeKltDXe8"
      },
      "outputs": [],
      "source": [
        "model_name = \"marefa-nlp/marefa-ner\"\n",
        "custom_labels = [\"O\", \"B-job\", \"I-job\", \"B-nationality\", \"B-person\", \"I-person\", \"B-location\",\n",
        "                 \"B-time\", \"I-time\", \"B-event\", \"I-event\", \"B-organization\", \"I-organization\",\n",
        "                 \"I-location\", \"I-nationality\", \"B-product\", \"I-product\", \"B-artwork\", \"I-artwork\"]\n",
        "\n",
        "NER_tokenizer = AutoTokenizer.from_pretrained(model_name)\n",
        "NER_Model = AutoModelForTokenClassification.from_pretrained(model_name, num_labels=len(custom_labels))"
      ]
    },
    {
      "cell_type": "markdown",
      "source": [
        "## Meta Text Extraction Process"
      ],
      "metadata": {
        "id": "Nn0G9BI9DYwi"
      }
    },
    {
      "cell_type": "code",
      "source": [
        "def extractNER(text: str, model: AutoModelForTokenClassification,tokenizer: AutoTokenizer, start_token: str=\"▁\"):\n",
        "    \n",
        "    tokenized_sentence = tokenizer([text], padding=True, truncation=True, return_tensors=\"pt\")\n",
        "    tokenized_sentences = tokenized_sentence['input_ids'].numpy()\n",
        "\n",
        "    with torch.no_grad():\n",
        "        output = model(**tokenized_sentence)\n",
        "\n",
        "    last_hidden_states = output[0].numpy()\n",
        "    label_indices = np.argmax(last_hidden_states[0], axis=1)\n",
        "    tokens = tokenizer.convert_ids_to_tokens(tokenized_sentences[0])\n",
        "    special_tags = set(tokenizer.special_tokens_map.values())\n",
        "\n",
        "    grouped_tokens = []\n",
        "    for token, label_idx in zip(tokens, label_indices):\n",
        "        if token not in special_tags:\n",
        "            if not token.startswith(start_token) and len(token.replace(start_token,\"\").strip()) > 0:\n",
        "                grouped_tokens[-1][\"token\"] += token\n",
        "            else:\n",
        "                grouped_tokens.append({\"token\": token, \"label\": custom_labels[label_idx]})\n",
        "\n",
        "    # extract entities\n",
        "    ents = []\n",
        "    prev_label = \"O\"\n",
        "    for token in grouped_tokens:\n",
        "        label = token[\"label\"].replace(\"I-\",\"\").replace(\"B-\",\"\")\n",
        "        if token[\"label\"] != \"O\":\n",
        "            \n",
        "            if label != prev_label:\n",
        "                ents.append({\"token\": [token[\"token\"]], \"label\": label})\n",
        "            else:\n",
        "                ents[-1][\"token\"].append(token[\"token\"])\n",
        "            \n",
        "        prev_label = label\n",
        "    \n",
        "    # group tokens\n",
        "    ents = [{\"token\": \"\".join(rec[\"token\"]).replace(start_token,\" \").strip(), \"label\": rec[\"label\"]}  for rec in ents ]\n",
        "    \n",
        "    return ents"
      ],
      "metadata": {
        "id": "H9l1xKBMDpvm"
      },
      "execution_count": null,
      "outputs": []
    },
    {
      "cell_type": "markdown",
      "source": [
        "# Model Output"
      ],
      "metadata": {
        "id": "Qi11-CXvJjlt"
      }
    },
    {
      "cell_type": "code",
      "source": [
        "textInput = \"\"\"\n",
        "تحت عنوان \"أزياء مشعة\" قدم المصمم اللبناني بسيل سودة هذا الشهر عرضه في روما،\n",
        "وهو العرض السابع بعد عدة عروض ناجحة أقامها في بيروت، انتقد سودة هجرة المصممين\n",
        "العرب إلى الدول الأوروبية لتقديم عروضهم، وطالب بتأسيس أسبوع عربي للموضة\n",
        "بمواصفات عالمية، يقدم الإبداعات العربية ويعمل على تطوير المهنة، ونفى احتكار\n",
        "الرجل التصميم للمرأة، مؤكدا أن قدرة المرأة على التصميم للرجل، وآراء أخرى في\n",
        "هذا الحوار.\n",
        " * كيف كان عرضك الأخير في روما وما المجموعة التي قدمتها؟\n",
        " ـ قدمت في عرض روما مجموعة من 40 قطعة لموسم الصيف مستوحاة من فترة السبعينيات،\n",
        "استخدمت فيها الأقمشة التي تستخدم عادة في أزياء الهوت كوتيور مثل الموسلين\n",
        "والحرير، ولكن بطريقة جديدة مع استخدام الإكسسوار، العرض أقيم تحت عنوان \"أزياء\n",
        "مشعة\"، وعلى المستوى العربي كانت الأصداء جيدة جدا.\n",
        " * ما هي الألوان والأقمشة التي تفضل استعمالها في تصاميمك؟\n",
        " ـ أفضل عادة ألوان الباستيل من الأصفر إلى البيتش سومو والتركواز والبيج والزهر،\n",
        "وهذه هي ألوان الموضة، وهناك الأسود الذي مازال محافظا على رونقه، والأبيض كذلك،\n",
        "أما القماش فيحدد حسب موضة العام، فالموضة تحتم عليك نوعية قماش محددة وتضعك في\n",
        "إطار معين.\n",
        " * ما هي المعوقات لمجال تصميم الأزياء في لبنان؟\n",
        " ـ المشكلة في عدم وجود أسبوع سنوي للموضة يقام في لبنان على نطاق عالمي، وهجرة\n",
        "العقول المبدعة، فالمصممون يتركون بلدهم ويعرضون في الخارج، والمفروض أن نقيم\n",
        "أسبوعا للموضة في العالم العربي بشكل عالمي، فيحدث من خلاله النقد والتطوير، كما\n",
        "يحدث في روما ولندن ونيويورك اليوم، يجب أن نعمل اليوم قبل الغد على تأسيس هذا\n",
        "الأسبوع، ولبنان أكثر بلد عنده مقومات إقامة أسبوع موضة، فلديه الأيدي العاملة\n",
        "والتقنية، مما يمكنه من إقامة أسبوع للموضة، يدرج على المستوى العالمي.\n",
        " * لماذا ترتبط الموضة غالبا بارتفاع السعر، وكيف يمكن تحقيق معادلة الأناقة\n",
        "للجميع؟\n",
        " ـ أكيد إن الأناقة حق للجميع، ولكن الهوت كوتيور لا يمكن تقديمه للجميع، تماما\n",
        "مثل الشخص الذي يشتري منزلا غاليا ويعد له الديكور الخاص به، ولكن عن طريق\n",
        "الفستان الجاهز والخياطين يمكن أن نقدم تصميمات أنيقة للجميع، ولكن الهوت كوتيور\n",
        "لا يمكن أن يكون للجميع، لأنها نوعية من الأزياء يتم ارتداؤها في مناسبات معينة\n",
        "خاصة جدا، مثل الأفراح والحفلات والمناسبات السعيدة، فله ميزات خاصة مكلفة، ويجب\n",
        "أن نحافظ على هذه الميزات.\n",
        " * لماذا يحتكر الرجل مهنة التصميم للمرأة؟\n",
        " ـ في العالم توجد مصممات كثيرات نجحن في التصميم للمرأة، ولكن في العالم العربي\n",
        "يندر ذلك لظروف اجتماعية مختلفة، أيضا المرأة لو صممت تصميما جيدا بفطرتها ستقول\n",
        "هذا التصميم لي، ليس في الأمر احتكار، بالعكس نحن لا نرفض الفكرة فالمرأة قادرة\n",
        "على الإبداع، والرجولة لا تحتكر تصميم الأزياء.\n",
        " * صممت إحدى الشركات اليابانية روبوت خاصاً لعرض الأزياء، فهل تنجح هذه الفكرة؟.\n",
        " ـ الموديل يجب أن تعرضه امرأة، ولا أتصور أن يتم بخلاف ذلك، فلا يمكن أن أعرض\n",
        "تصميماتي على روبوت، هذه تكنولوجيا ولا أتصور تطبيقها في الهوت كوتيور، هناك\n",
        "محاولات تمت من هذا القبيل، مثال عرض سينمائي أقيم في التسعينيات نفذه مصمم فرنسي\n",
        "اسمه هيري موجلير، ونجح العرض ولكن كان مكلفا، فقد كلف مليون دولار، وكانت محاولة\n",
        "في فترة تحول للعروض السينمائية، وهناك محاولات أخرى سابقة تمت، ولكنها كانت\n",
        "بمثابة رسائل وتنبيه إلى أن الإنسان تحول إلى روبوت، وأننا ذاهبون إلى الميكنة،\n",
        "ولكن لا يمكن أن نستعيض عن المرأة أو الرجل بروبوت.\n",
        " * كيف تأتي فكرة التصميم؟\n",
        " ـ أحيانا يكون كالإلهام فقد يأتي فجأة، وقد يكون نتيجة بحث، بعد أن تضع نفسك في\n",
        "جو معين من الموسيقي والسينما والنحت والرسم، فهو إنتاج فني متكامل، تظهر معه\n",
        "أشياء من الجو الذي تعيش فيه، أو تحب أن تكون فيه، إنها حالة كالحلم، ترسم موديل\n",
        "ثم تنفذه أو تنفذه مباشرة، وذلك حسب الفكرة وكيفية تطورها.\n",
        " * ما رأيك ببعض المصممين الذين تمردوا على السمات الأساسية لفستان الزفاف اللون\n",
        "الأبيض؟ \n",
        "ـ تطوير فستان الفرح ممكن، ولكن اللون الأبيض أساسي، فلا يمكن أن نصممه أسود أو\n",
        "أحمر، يمكن أن يكون لونه رمادياً فاتحاً أو أبيض أو ذهبياً، ولكن عدا ذلك لا\n",
        "أعتقد، ومن الصعب وجود مصمم يتخطى هذه الحدود، وإذا وجدت هذه الألوان في العروض\n",
        "فإن 99% من العرائس لا يرتدونه، ولكن هذا لا يمنع أن يكون جميلا.\n",
        " * ما دور الإكسسوارات في تصاميمك؟\n",
        " ـ ركزت على الإكسسوارات في بعض موديلات هذه المجموعة، وفي المجموعة السابقة قدمت\n",
        "فساتين مصنوعة من الإكسسوار، ولكن بطريقتي الخاصة، وكانت مستوحاة من الجو الماسي،\n",
        "وأنا أفضل مجوهرات الكريستال، وأن يكون اللوك العام للإكسسوارات مجوهرات.\n",
        " * كيف يمكن الارتقاء بمهنة التصميم؟\n",
        " ـ على الدول العربية تشجيع المهنة لكي نتطور ونصل إلى المستوى العالمي، كل دور\n",
        "الأزياء مرتبطة لدينا بأشخاص، في الخارج دور الأزياء كيانات كبيرة، المصمم ليس\n",
        "صاحبها، وتوجد فيها هيكلية في الإدارة، وهذا قليل في العالم العربي، وإذا وجد\n",
        "لدينا سيساعد المصمم كثيرا على التصميم، بعيدا عن التسويق والإدارة، ولم نصل بعد\n",
        "إلى هذه المرحلة.\n",
        " في الوطن العربي هناك معدل إنفاق عال على الأزياء، ولكن لا يوجد تطور، ومهنة\n",
        "الهوت كوتيور صناعة آخذة في التراجع، وفي أوروبا أصبحوا يستخدمونها في الإعلام\n",
        "وفي تسويق أسمائهم، لا يهمهم أن يبيعوا، ومن خلالها يتم تسويق مواد أخرى تحت هذا\n",
        "الاسم، فهم ينفقون ملايين الدولارات على العروض، ولكن تحت إطار تسويقي وإعلامي،\n",
        "وعندنا يتهم المصممون العرب بأن ليس لديهم إبداع، إما أن تبدع أو تبيع..\n",
        "\"\"\""
      ],
      "metadata": {
        "id": "F6bryTUVER9W"
      },
      "execution_count": null,
      "outputs": []
    },
    {
      "cell_type": "code",
      "source": [
        "extractNER(text=textInput, model=NER_Model, tokenizer=NER_tokenizer, start_token=\"▁\")"
      ],
      "metadata": {
        "colab": {
          "base_uri": "https://localhost:8080/"
        },
        "id": "Y3xazWxtEj1s",
        "outputId": "fb193391-f201-4d2c-e77f-3f135bab63ae"
      },
      "execution_count": null,
      "outputs": [
        {
          "output_type": "execute_result",
          "data": {
            "text/plain": [
              "[{'label': 'job', 'token': 'المصمم'},\n",
              " {'label': 'nationality', 'token': 'اللبناني'},\n",
              " {'label': 'person', 'token': 'بسيل سودة'},\n",
              " {'label': 'location', 'token': 'روما،'},\n",
              " {'label': 'location', 'token': 'بيروت،'},\n",
              " {'label': 'person', 'token': 'سودة'},\n",
              " {'label': 'job', 'token': 'المصممين'},\n",
              " {'label': 'location', 'token': 'الدول الأوروبية'},\n",
              " {'label': 'location', 'token': 'روما'},\n",
              " {'label': 'location', 'token': 'روما'},\n",
              " {'label': 'time', 'token': 'السبعينيات،'},\n",
              " {'label': 'artwork', 'token': 'الهوت كوتيور'},\n",
              " {'label': 'location', 'token': 'لبنان؟'},\n",
              " {'label': 'location', 'token': 'لبنان'},\n",
              " {'label': 'location', 'token': 'العالم العربي'},\n",
              " {'label': 'location', 'token': 'روما ولندن ونيويورك'},\n",
              " {'label': 'artwork', 'token': 'الهوت كوتيور'}]"
            ]
          },
          "metadata": {},
          "execution_count": 23
        }
      ]
    }
  ]
}