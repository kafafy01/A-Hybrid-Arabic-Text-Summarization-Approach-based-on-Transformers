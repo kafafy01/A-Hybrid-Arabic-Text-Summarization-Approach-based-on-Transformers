{
  "nbformat": 4,
  "nbformat_minor": 0,
  "metadata": {
    "colab": {
      "name": "Abstractive_mT5_SummarizerHuggingFace.ipynb",
      "provenance": [],
      "authorship_tag": "ABX9TyOGL5IC4DWpInQ2pAJvi8LU",
      "include_colab_link": true
    },
    "kernelspec": {
      "name": "python3",
      "display_name": "Python 3"
    },
    "language_info": {
      "name": "python"
    }
  },
  "cells": [
    {
      "cell_type": "markdown",
      "metadata": {
        "id": "view-in-github",
        "colab_type": "text"
      },
      "source": [
        "<a href=\"https://colab.research.google.com/github/mohamedehab00/A-Hybrid-Arabic-Text-Summarization-Approach-based-on-Transformers/blob/main/Abstractive_mT5_SummarizerHuggingFace.ipynb\" target=\"_parent\"><img src=\"https://colab.research.google.com/assets/colab-badge.svg\" alt=\"Open In Colab\"/></a>"
      ]
    },
    {
      "cell_type": "markdown",
      "source": [
        "# Installing Model Dependencies"
      ],
      "metadata": {
        "id": "t2-_XBbHArPB"
      }
    },
    {
      "cell_type": "code",
      "source": [
        "!pip install transformers==4.8.0 datasets sentencepiece==0.1.96"
      ],
      "metadata": {
        "colab": {
          "base_uri": "https://localhost:8080/"
        },
        "id": "5gcJMOZ4Auyk",
        "outputId": "7f30a53b-b86b-424a-f4b3-11927d43e62c"
      },
      "execution_count": null,
      "outputs": [
        {
          "output_type": "stream",
          "name": "stdout",
          "text": [
            "Requirement already satisfied: transformers==4.8.0 in /usr/local/lib/python3.7/dist-packages (4.8.0)\n",
            "Requirement already satisfied: datasets in /usr/local/lib/python3.7/dist-packages (1.11.0)\n",
            "Requirement already satisfied: sentencepiece==0.1.96 in /usr/local/lib/python3.7/dist-packages (0.1.96)\n",
            "Requirement already satisfied: huggingface-hub==0.0.12 in /usr/local/lib/python3.7/dist-packages (from transformers==4.8.0) (0.0.12)\n",
            "Requirement already satisfied: filelock in /usr/local/lib/python3.7/dist-packages (from transformers==4.8.0) (3.6.0)\n",
            "Requirement already satisfied: sacremoses in /usr/local/lib/python3.7/dist-packages (from transformers==4.8.0) (0.0.49)\n",
            "Requirement already satisfied: tqdm>=4.27 in /usr/local/lib/python3.7/dist-packages (from transformers==4.8.0) (4.64.0)\n",
            "Requirement already satisfied: packaging in /usr/local/lib/python3.7/dist-packages (from transformers==4.8.0) (21.3)\n",
            "Requirement already satisfied: regex!=2019.12.17 in /usr/local/lib/python3.7/dist-packages (from transformers==4.8.0) (2019.12.20)\n",
            "Requirement already satisfied: importlib-metadata in /usr/local/lib/python3.7/dist-packages (from transformers==4.8.0) (4.11.3)\n",
            "Requirement already satisfied: pyyaml in /usr/local/lib/python3.7/dist-packages (from transformers==4.8.0) (3.13)\n",
            "Requirement already satisfied: numpy>=1.17 in /usr/local/lib/python3.7/dist-packages (from transformers==4.8.0) (1.21.6)\n",
            "Requirement already satisfied: tokenizers<0.11,>=0.10.1 in /usr/local/lib/python3.7/dist-packages (from transformers==4.8.0) (0.10.3)\n",
            "Requirement already satisfied: requests in /usr/local/lib/python3.7/dist-packages (from transformers==4.8.0) (2.23.0)\n",
            "Requirement already satisfied: typing-extensions in /usr/local/lib/python3.7/dist-packages (from huggingface-hub==0.0.12->transformers==4.8.0) (4.1.1)\n",
            "Requirement already satisfied: pyparsing!=3.0.5,>=2.0.2 in /usr/local/lib/python3.7/dist-packages (from packaging->transformers==4.8.0) (3.0.8)\n",
            "Requirement already satisfied: pandas in /usr/local/lib/python3.7/dist-packages (from datasets) (1.3.5)\n",
            "Requirement already satisfied: multiprocess in /usr/local/lib/python3.7/dist-packages (from datasets) (0.70.12.2)\n",
            "Requirement already satisfied: pyarrow!=4.0.0,>=1.0.0 in /usr/local/lib/python3.7/dist-packages (from datasets) (6.0.1)\n",
            "Requirement already satisfied: xxhash in /usr/local/lib/python3.7/dist-packages (from datasets) (3.0.0)\n",
            "Requirement already satisfied: fsspec>=2021.05.0 in /usr/local/lib/python3.7/dist-packages (from datasets) (2022.3.0)\n",
            "Requirement already satisfied: dill in /usr/local/lib/python3.7/dist-packages (from datasets) (0.3.4)\n",
            "Requirement already satisfied: certifi>=2017.4.17 in /usr/local/lib/python3.7/dist-packages (from requests->transformers==4.8.0) (2021.10.8)\n",
            "Requirement already satisfied: urllib3!=1.25.0,!=1.25.1,<1.26,>=1.21.1 in /usr/local/lib/python3.7/dist-packages (from requests->transformers==4.8.0) (1.24.3)\n",
            "Requirement already satisfied: idna<3,>=2.5 in /usr/local/lib/python3.7/dist-packages (from requests->transformers==4.8.0) (2.10)\n",
            "Requirement already satisfied: chardet<4,>=3.0.2 in /usr/local/lib/python3.7/dist-packages (from requests->transformers==4.8.0) (3.0.4)\n",
            "Requirement already satisfied: zipp>=0.5 in /usr/local/lib/python3.7/dist-packages (from importlib-metadata->transformers==4.8.0) (3.8.0)\n",
            "Requirement already satisfied: pytz>=2017.3 in /usr/local/lib/python3.7/dist-packages (from pandas->datasets) (2022.1)\n",
            "Requirement already satisfied: python-dateutil>=2.7.3 in /usr/local/lib/python3.7/dist-packages (from pandas->datasets) (2.8.2)\n",
            "Requirement already satisfied: six>=1.5 in /usr/local/lib/python3.7/dist-packages (from python-dateutil>=2.7.3->pandas->datasets) (1.15.0)\n",
            "Requirement already satisfied: joblib in /usr/local/lib/python3.7/dist-packages (from sacremoses->transformers==4.8.0) (1.1.0)\n",
            "Requirement already satisfied: click in /usr/local/lib/python3.7/dist-packages (from sacremoses->transformers==4.8.0) (7.1.2)\n"
          ]
        }
      ]
    },
    {
      "cell_type": "markdown",
      "source": [
        "# Essential Imports"
      ],
      "metadata": {
        "id": "1TqpVPvQ_Xfn"
      }
    },
    {
      "cell_type": "code",
      "source": [
        "from transformers import AutoTokenizer, AutoModelForSeq2SeqLM\n",
        "\n",
        "import torch\n",
        "\n",
        "import logging\n",
        "\n",
        "logging.basicConfig(level=logging.INFO)\n",
        "transformers_logger = logging.getLogger(\"transformers\")\n",
        "transformers_logger.setLevel(logging.WARNING)"
      ],
      "metadata": {
        "id": "GkAOejjS_bep"
      },
      "execution_count": null,
      "outputs": []
    },
    {
      "cell_type": "markdown",
      "source": [
        "# Model"
      ],
      "metadata": {
        "id": "n_TptZQN85CI"
      }
    },
    {
      "cell_type": "code",
      "execution_count": null,
      "metadata": {
        "id": "wN15kpQn8UKy"
      },
      "outputs": [],
      "source": [
        "model_name = \"csebuetnlp/mT5_multilingual_XLSum\"\n",
        "abstractive_Tokenizer = AutoTokenizer.from_pretrained(model_name)\n",
        "abstractive_Model = AutoModelForSeq2SeqLM.from_pretrained(model_name)"
      ]
    },
    {
      "cell_type": "code",
      "source": [
        "def abstractiveModelSummarizer(text):\n",
        "  input_ids = abstractive_Tokenizer(\n",
        "      [(text)],\n",
        "      return_tensors=\"pt\",\n",
        "      padding=\"max_length\",\n",
        "      truncation=True,\n",
        "      max_length=1024\n",
        "  )[\"input_ids\"]\n",
        "\n",
        "  output_ids = abstractive_Model.generate(\n",
        "      input_ids=input_ids,\n",
        "      max_length=600,\n",
        "      no_repeat_ngram_size=8,\n",
        "      num_beams=4\n",
        "  )[0]\n",
        "\n",
        "  summary = abstractive_Tokenizer.decode(\n",
        "      output_ids,\n",
        "      skip_special_tokens=True,\n",
        "      clean_up_tokenization_spaces=False\n",
        "  )\n",
        "  return summary"
      ],
      "metadata": {
        "id": "ySxqOPOL9FxT"
      },
      "execution_count": null,
      "outputs": []
    },
    {
      "cell_type": "markdown",
      "source": [
        "# Model Output"
      ],
      "metadata": {
        "id": "QhPLAsPUEnHh"
      }
    },
    {
      "cell_type": "code",
      "source": [
        "textInput =\"\"\"\n",
        "لفت نظري واستغرابي إعلانان كلاهما يتعلق بـ\"طلب مرئيات العموم\" من هيئة\n",
        "الاتصالات وتقنية المعلومات المنشور في جميع الصحف وملخصهما أن الهيئة من أجل\n",
        "الترخيص لمقدمي خدمة الهاتف الجوال أو الترخيص لمقدمي خدمة المعطيات (ولنا عودة\n",
        "لهذه الكلمة) تدعو الأطراف المعنية لإبداء مرئياتهم ومنهم الراغبون بتقديم الخدمة\n",
        "والهيئات الأخرى ذات العلاقة مثل الجهات الحكومية والمنشآت الصناعية والتجارية\n",
        "والهيئات الأكاديمية وموردي الأجهزة ومقدمي الخدمات وأي طرف آخر من الجمهور له\n",
        "اهتمام بالأمر، ويشير الإعلان إلى وثيقة ينبغي الرجوع إليها لإبداء المرئيات\n",
        "موجودة في موقع الهيئة بشبكة الإنترنت التي تتضمن (24) سؤالا تتعلق بترخيص\n",
        "المعطيات و(38) سؤالا تخص خدمة الجوال... ومبعث الاستغراب هو أننا لم نتعود من\n",
        "الجهات الحكومية أو غيرها أن تطلب رأي أو ملاحظات العموم وهم الجمهور أو الشعب في\n",
        "مشروع أو برنامج قبل تنفيذه... وهذا بظني أسلوب جديد له الكثير من الإيجابيات\n",
        "يأتي في قمتها حصول الهيئة على أكثر من (62) استشارة مجانية وهي الملاحظات\n",
        "والآراء التي ترد من كل طرف متجاوب من الأطراف ممن لهم مصلحة أو لهم علاقة بحكم\n",
        "الاختصاص أو ممن سيستعمل المشروع أو الخدمة أو متبرع بمرئياته من الجمهور، ومما\n",
        "لا شك فيه أن الهيئة ستقوم بدراسة وتمحيص ما يرد لها والأخذ بالصالح منها مما\n",
        "سيمكنها من تلافي السلبيات وتعزيز الإيجابيات ومنح التراخيص المعلن عنها\n",
        "للمستحقين والمؤهلين وبشروط عادلة تخدم فوق كل اعتبار المصلحة العامة...\n",
        " وتبقى ثلاثة أمور لا بد من الإشارة إليها تخص إعلان هيئة الاتصالات أولها أن\n",
        "المرئيات المطلوبة من العموم هي في أغلبها نواح فنية يصعب على الناس العاديين\n",
        "فهمها ناهيك عن إبداء الرأي حيالها، ومع ذلك فإن هناك أصحاب الاختصاص وربما\n",
        "المصلحة من الناس الذين لا بد أن يهمهم الأمر، وثانيها أن الإعلان غير واضح من\n",
        "قراءته باللغة العربية لأول وهلة وأكرر لأول وهلة... وأخص بالذكر إعلان الهيئة\n",
        "الخاص بطلب مرئيات العموم عن ترخيص تقديم خدمات المعطيات... وقد احترت في فهم\n",
        "\"المعطيات\" حتى قرأتها باللغة الإنجليزية فوجدت (وأنا لست بالمترجم المحترف) أن\n",
        "الترجمة الأقرب هي خدمات إرسال أو توصيل الحزم أو البيانات الرقمية، وثالث الأمور\n",
        "أن الإعلان يشير إلى وثيقة خاصة ينبغي الرجوع إليها لإبداء المرئيات... وهذه\n",
        "الوثيقة موجودة باللغة الإنجليزية فقط في موقع الهيئة بشبكة الإنترنت كما نص\n",
        "الإعلان وخلاصة القول إن الإعلان كان من الممكن كتابته باللغة العربية بشكل أفضل\n",
        "وأوضح.\n",
        " ومع ذلك فإن لهيئة الاتصالات الفضل لكونها أو لجهة حكومية تتبع أسلوبا ديمقراطيا\n",
        "(إن صح التعبير) وذا شفافية عالية سيكون له قطعا مصلحة وفائدة لمجلس إدارتها في\n",
        "اتخاذ القرار المناسب عند استعراضه الخيارات المقدمة إليه من محصلة الآراء\n",
        "المستلمة... ويبقى أن يتفاعل ويتجاوب أصحاب العلاقة من اختصاصيين ومستفيدين\n",
        "ومستهلكين بتقديم آرائهم حتى تنجح التجربة.\n",
        " ويبقى تساؤل للعموم ربما لا يوجد جواب عليه وهو أما كان من الممكن أن تكون بعض\n",
        "المشروعات والبرامج المهمة أفضل لو اتبع حيالها مثل هذا الأسلوب في أخذ مرئيات\n",
        "العموم قبل تنفيذها مثل مشروعات بعض المطارات والطرق ومثل برامج كمناهج التعليم\n",
        "والتدريب ومكافحة الفقر..؟ \n",
        "والأهم من هذا وذاك نقترح على مجلس الشورى قبل إقرار أي نظام له تأثير على شرائح\n",
        "كبيرة من المجتمع أن ينشره كمسودة ويدعو أصحاب العلاقة والعموم لإبداء مرئياتهم\n",
        "عليه للحصول على استشارات مجانية قد يكون بعضها في غاية الفائدة قبل إقراره...\n",
        "فنظام مهم مثل نظام السوق المالية مع التقدير للمديح الكثير الذي تحصل عليه حتى\n",
        "قبل اختباره أو تطبيقه أما كان الأفضل تلافي الكثير من السلبيات التي قد تظهر عند\n",
        "التطبيق لو تم نشره كمسودة وتم أخذ مرئيات العموم من أصحاب العلاقة ومنهم المئات\n",
        "أو الآلاف من المتعاملين بالأسهم ومن مرتادي غرف تداول الأسهم في فروع البنوك.\n",
        "\"\"\""
      ],
      "metadata": {
        "id": "Z2Bm6r1E9X_M"
      },
      "execution_count": null,
      "outputs": []
    },
    {
      "cell_type": "code",
      "source": [
        "abstractiveModelSummarizer(textInput)"
      ],
      "metadata": {
        "colab": {
          "base_uri": "https://localhost:8080/",
          "height": 90
        },
        "id": "TsIHBUqaB5sH",
        "outputId": "8d662ab8-a5bc-4c47-c506-6a621bdfcd7f"
      },
      "execution_count": null,
      "outputs": [
        {
          "output_type": "stream",
          "name": "stderr",
          "text": [
            "/usr/local/lib/python3.7/dist-packages/transformers/generation_utils.py:1839: UserWarning: __floordiv__ is deprecated, and its behavior will change in a future version of pytorch. It currently rounds toward 0 (like the 'trunc' function NOT 'floor'). This results in incorrect rounding for negative values. To keep the current behavior, use torch.div(a, b, rounding_mode='trunc'), or for actual floor division, use torch.div(a, b, rounding_mode='floor').\n",
            "  next_indices = next_tokens // vocab_size\n"
          ]
        },
        {
          "output_type": "execute_result",
          "data": {
            "text/plain": [
              "'أثار إعلان هيئة الاتصالات وتقنية المعلومات في الصحف العربية جدلا واسعا حول كيفية إبداء المرئيات المطلوبة من الجمهور.'"
            ],
            "application/vnd.google.colaboratory.intrinsic+json": {
              "type": "string"
            }
          },
          "metadata": {},
          "execution_count": 13
        }
      ]
    }
  ]
}